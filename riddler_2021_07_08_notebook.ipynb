{
 "cells": [
  {
   "cell_type": "code",
   "execution_count": 195,
   "metadata": {},
   "outputs": [
    {
     "name": "stdout",
     "output_type": "stream",
     "text": [
      "7.77  years: coordinates are  -1.587804 -2.545364 -1.435622 3.733495 -1.642157 -4.722639\n"
     ]
    }
   ],
   "source": [
    "#https://fivethirtyeight.com/features/can-you-solve-this-astronomical-enigma/\n",
    "\n",
    "import math\n",
    "\n",
    "def coords_at_time(r,t,v):\n",
    "    \"\"\"\n",
    "    r = radius\n",
    "    t = time\n",
    "    v = velocity\n",
    "    \"\"\"\n",
    "    distance = math.radians(v*t)\n",
    "    x = round(r*math.sin(distance),6)\n",
    "    y = round(r*math.cos(distance),6)\n",
    "    return [x,y]\n",
    "    \n",
    "def check_if_collinear(x1,y1,x2,y2,x3,y3):\n",
    "   return (x1 * (y2 - y3) + x2 * (y3 - y1) + x3 * (y1 - y2)) < 0.01\n",
    "\n",
    "# Setup\n",
    "radii = [3,4,5]\n",
    "velocities = [360/r for r in radii]\n",
    "t = 1\n",
    "increment = .0001\n",
    "\n",
    "# Run until collinear\n",
    "while True:\n",
    "    x1,y1 = coords_at_time(radii[0],t,velocities[0])\n",
    "    x2,y2 = coords_at_time(radii[1],t,velocities[1])\n",
    "    x3,y3 = coords_at_time(radii[2],t,velocities[2])\n",
    "\n",
    "    if check_if_collinear(x1,y1,x2,y2,x3,y3):\n",
    "        break\n",
    "    t += increment\n",
    "\n",
    "print(round(t,2),\" years: coordinates are \",x1,y1,x2,y2,x3,y3)\n",
    "\n",
    "# 7.77  years : coordinates are  -1.587804 -2.545364 -1.435622 3.733495 -1.642157 -4.722639\n"
   ]
  }
 ],
 "metadata": {
  "kernelspec": {
   "display_name": "Python 3",
   "language": "python",
   "name": "python3"
  },
  "language_info": {
   "codemirror_mode": {
    "name": "ipython",
    "version": 3
   },
   "file_extension": ".py",
   "mimetype": "text/x-python",
   "name": "python",
   "nbconvert_exporter": "python",
   "pygments_lexer": "ipython3",
   "version": "3.8.5"
  }
 },
 "nbformat": 4,
 "nbformat_minor": 4
}
