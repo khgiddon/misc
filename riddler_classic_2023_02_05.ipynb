{
 "cells": [
  {
   "cell_type": "code",
   "execution_count": 27,
   "id": "8cc0fbe1-610a-4374-88d3-8b4dd3cddaee",
   "metadata": {},
   "outputs": [
    {
     "name": "stdout",
     "output_type": "stream",
     "text": [
      "170.47\n"
     ]
    }
   ],
   "source": [
    "# Riddler Classic 2023-02-05\n",
    "# https://fivethirtyeight.com/features/can-you-take-down-all-the-bottles-of-beer/\n",
    "# It follows the Markov method I used here so will not explain again: https://www.kylegiddon.com/riddler-538-tower-of-hanoi/\n",
    "\n",
    "import pandas as pd\n",
    "import numpy as np\n",
    "\n",
    "# State transitions\n",
    "transitions = []\n",
    "p = .99\n",
    "for v in range(99,0,-1):\n",
    "    transitions.append((v,v-1,p))\n",
    "    transitions.append((v,99,1-p))\n",
    "    \n",
    "# Absorbing state\n",
    "transitions.append((0,0,1))\n",
    "\n",
    "# Create table\n",
    "df = pd.DataFrame(transitions, columns=['state', 'new_state','p'])\n",
    "\n",
    "# Rectangularize\n",
    "df_pivot = df.pivot_table(index='state', columns='new_state', values='p', fill_value=0, dropna=False)\n",
    "df_pivot = df_pivot.sort_index(ascending=False)\n",
    "df_pivot = df_pivot.sort_index(ascending=False, axis=1)\n",
    "\n",
    "matrix = df_pivot.to_numpy()\n",
    "\n",
    "# Time to absorption calculation\n",
    "number_of_absorbing_states = 1\n",
    "I = np.eye(len(matrix) - number_of_absorbing_states)\n",
    "Q = matrix[:number_of_absorbing_states*-1,:number_of_absorbing_states*-1]\n",
    "N = np.linalg.inv(I - Q)\n",
    "o = np.ones(Q.shape[0])\n",
    "tta = np.dot(N, o)\n",
    "\n",
    "print(round(tta[0],2))\n",
    "\n",
    "# 170.47"
   ]
  },
  {
   "cell_type": "code",
   "execution_count": 32,
   "id": "6eb583ee-2fe4-4024-994d-02b41d840185",
   "metadata": {},
   "outputs": [
    {
     "name": "stdout",
     "output_type": "stream",
     "text": [
      "170.70079\n"
     ]
    }
   ],
   "source": [
    "# Monte Carlo check\n",
    "\n",
    "import random\n",
    "\n",
    "s = 0\n",
    "trials = 100000\n",
    "\n",
    "for _ in range(trials):\n",
    "\n",
    "    n = 99\n",
    "    v = 0\n",
    "\n",
    "    while n > 0:\n",
    "        if random.random() > .99:\n",
    "            n = 99\n",
    "        else:\n",
    "            n -= 1\n",
    "        v += 1\n",
    "    s += v\n",
    "\n",
    "print(s/trials)\n",
    "\n",
    "# 170.70079"
   ]
  }
 ],
 "metadata": {
  "kernelspec": {
   "display_name": "Python 3 (ipykernel)",
   "language": "python",
   "name": "python3"
  },
  "language_info": {
   "codemirror_mode": {
    "name": "ipython",
    "version": 3
   },
   "file_extension": ".py",
   "mimetype": "text/x-python",
   "name": "python",
   "nbconvert_exporter": "python",
   "pygments_lexer": "ipython3",
   "version": "3.11.1"
  }
 },
 "nbformat": 4,
 "nbformat_minor": 5
}
