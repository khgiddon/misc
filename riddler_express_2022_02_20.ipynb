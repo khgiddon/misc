{
 "cells": [
  {
   "cell_type": "code",
   "execution_count": 1,
   "id": "4ae4a94a-eec2-44e9-80a0-f3695af33053",
   "metadata": {},
   "outputs": [
    {
     "name": "stdout",
     "output_type": "stream",
     "text": [
      "0.44994\n"
     ]
    }
   ],
   "source": [
    "\"\"\"\n",
    "https://fivethirtyeight.com/features/can-you-find-the-luckiest-coin/\n",
    "\n",
    "If my opponent's number is above 0.8, he wins 100% of the time.\n",
    "If my opponent's number is below 0.1, I win 100% of the time.\n",
    "Otherwise, we each win half the time.\n",
    "\n",
    "0.2 + 0.7*.5 = 45%\n",
    "\n",
    "I win 45% of the time.\n",
    "\n",
    "Monte Carlo check:\n",
    "\n",
    "\"\"\"\n",
    "\n",
    "import random\n",
    "\n",
    "iters = 1000000\n",
    "print(sum(1 for s in range(iters) if random.uniform(.1,.8) > random.random())/iters)"
   ]
  }
 ],
 "metadata": {
  "kernelspec": {
   "display_name": "Python 3 (ipykernel)",
   "language": "python",
   "name": "python3"
  },
  "language_info": {
   "codemirror_mode": {
    "name": "ipython",
    "version": 3
   },
   "file_extension": ".py",
   "mimetype": "text/x-python",
   "name": "python",
   "nbconvert_exporter": "python",
   "pygments_lexer": "ipython3",
   "version": "3.9.7"
  }
 },
 "nbformat": 4,
 "nbformat_minor": 5
}
