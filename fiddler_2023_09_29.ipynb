{
 "cells": [
  {
   "cell_type": "code",
   "execution_count": 1,
   "metadata": {},
   "outputs": [
    {
     "name": "stdout",
     "output_type": "stream",
     "text": [
      "21.333333333333318\n",
      "42.66666666666675\n",
      "83.19999999999956\n",
      "161.0666666666656\n",
      "312.0761904761917\n",
      "607.0857142856686\n",
      "1186.5396825398047\n",
      "2329.1936507936493\n",
      "4588.93852813713\n",
      "9067.350072156984\n"
     ]
    }
   ],
   "source": [
    "# https://thefiddler.substack.com/p/can-you-light-up-the-pinball-machine\n",
    "# For description of the method, see https://www.kylegiddon.com/riddler-538-tower-of-hanoi/\n",
    "\n",
    "import numpy as np\n",
    "import itertools\n",
    "import pandas as pd\n",
    "\n",
    "for n in range(4,14):\n",
    "\n",
    "    # Function for valid transitions\n",
    "    def valid_transitions(a,b,n):\n",
    "        return sum(1 for i in range (len(a)) if a[i] == b[i]) == n-1\n",
    "\n",
    "    # Create transition matrix\n",
    "    transitions = [] # state, statenew, p\n",
    "    perms = list(itertools.product('01',repeat=n))\n",
    "    for p in perms:\n",
    "\n",
    "        # Absorbing state\n",
    "        if p == ('1','1','1','1'):\n",
    "            transitions.append((p,p,1))\n",
    "            continue\n",
    "\n",
    "        # Valid transitions\n",
    "        for q in perms:\n",
    "\n",
    "            if valid_transitions(p,q,n):\n",
    "                transitions.append((p,q,1/n))\n",
    "\n",
    "    # Transforms the transition matrix\n",
    "    df = pd.DataFrame(transitions, columns=['state', 'state_new', 'p'])\n",
    "    df_pivot = df.pivot_table(index='state', columns='state_new', values='p', fill_value=0, dropna=False)\n",
    "    matrix = df_pivot.to_numpy()\n",
    "\n",
    "    # Time to absorption calculation\n",
    "    number_of_absorbing_states = 1\n",
    "    I = np.eye(len(matrix) - number_of_absorbing_states)\n",
    "    Q = matrix[:number_of_absorbing_states*-1,:number_of_absorbing_states*-1]\n",
    "    N = np.linalg.inv(I - Q)\n",
    "    o = np.ones(Q.shape[0])\n",
    "    tta = np.dot(N, o)\n",
    "    print(tta[0])"
   ]
  }
 ],
 "metadata": {
  "kernelspec": {
   "display_name": ".venv",
   "language": "python",
   "name": "python3"
  },
  "language_info": {
   "codemirror_mode": {
    "name": "ipython",
    "version": 3
   },
   "file_extension": ".py",
   "mimetype": "text/x-python",
   "name": "python",
   "nbconvert_exporter": "python",
   "pygments_lexer": "ipython3",
   "version": "3.11.5"
  },
  "orig_nbformat": 4
 },
 "nbformat": 4,
 "nbformat_minor": 2
}
