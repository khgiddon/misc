{
 "cells": [
  {
   "cell_type": "code",
   "execution_count": 18,
   "metadata": {},
   "outputs": [
    {
     "name": "stdout",
     "output_type": "stream",
     "text": [
      "21.333333333333318\n"
     ]
    }
   ],
   "source": [
    "# https://thefiddler.substack.com/p/can-you-light-up-the-pinball-machine\n",
    "# For description of the method, see https://www.kylegiddon.com/riddler-538-tower-of-hanoi/\n",
    "\n",
    "import numpy as np\n",
    "import itertools\n",
    "import pandas as pd\n",
    "\n",
    "# Function for valid transitions\n",
    "def valid_transitions(a,b):\n",
    "    return sum(1 for i in range (len(a)) if a[i] == b[i]) == 3\n",
    "\n",
    "# Create transition matrix\n",
    "transitions = [] # state, statenew, p\n",
    "n = 4\n",
    "perms = list(itertools.product('01',repeat=n))\n",
    "for p in perms:\n",
    "\n",
    "    # Absorbing state\n",
    "    if p == ('1','1','1','1'):\n",
    "        transitions.append((p,p,1))\n",
    "        continue\n",
    "\n",
    "    # Valid transitions\n",
    "    for q in perms:\n",
    "\n",
    "        if valid_transitions(p,q):\n",
    "            transitions.append((p,q,1/n))\n",
    "\n",
    "# Transforms the transition matrix\n",
    "df = pd.DataFrame(transitions, columns=['state', 'state_new', 'p'])\n",
    "df_pivot = df.pivot_table(index='state', columns='state_new', values='p', fill_value=0, dropna=False)\n",
    "matrix = df_pivot.to_numpy()\n",
    "\n",
    "# Time to absorption calculation\n",
    "number_of_absorbing_states = 1\n",
    "I = np.eye(len(matrix) - number_of_absorbing_states)\n",
    "Q = matrix[:number_of_absorbing_states*-1,:number_of_absorbing_states*-1]\n",
    "N = np.linalg.inv(I - Q)\n",
    "o = np.ones(Q.shape[0])\n",
    "tta = np.dot(N, o)\n",
    "print(tta[0])"
   ]
  }
 ],
 "metadata": {
  "kernelspec": {
   "display_name": ".venv",
   "language": "python",
   "name": "python3"
  },
  "language_info": {
   "codemirror_mode": {
    "name": "ipython",
    "version": 3
   },
   "file_extension": ".py",
   "mimetype": "text/x-python",
   "name": "python",
   "nbconvert_exporter": "python",
   "pygments_lexer": "ipython3",
   "version": "3.11.5"
  },
  "orig_nbformat": 4
 },
 "nbformat": 4,
 "nbformat_minor": 2
}
