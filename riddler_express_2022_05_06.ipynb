{
 "cells": [
  {
   "cell_type": "code",
   "execution_count": 41,
   "id": "3cfbd1a4-a162-4d84-a2b2-ad6241eb63cd",
   "metadata": {},
   "outputs": [
    {
     "name": "stdout",
     "output_type": "stream",
     "text": [
      "2.828968253968254\n"
     ]
    }
   ],
   "source": [
    "import numpy as np\n",
    "\n",
    "# https://fivethirtyeight.com/features/can-you-build-the-longest-ladder/\n",
    "\n",
    "# Create transition matrix\n",
    "n = 10\n",
    "M = np.zeros((n,n))\n",
    "for y in range(n):\n",
    "    for x in range(n):\n",
    "        if x > y:\n",
    "            M[y,x] = 1/(n-y-1)\n",
    "M[n-1,n-1] = 1\n",
    "\n",
    "# Markov algebra time\n",
    "number_of_absorbing_states = 1\n",
    "I = np.eye(len(M) - number_of_absorbing_states)\n",
    "Q = M[:number_of_absorbing_states*-1,:number_of_absorbing_states*-1]\n",
    "N = np.linalg.inv(I - Q)\n",
    "o = np.ones(Q.shape[0])\n",
    "tta = np.dot(N, o)\n",
    "print(np.max(tta))\n",
    "\n",
    "# 2.82896"
   ]
  }
 ],
 "metadata": {
  "kernelspec": {
   "display_name": "Python 3 (ipykernel)",
   "language": "python",
   "name": "python3"
  },
  "language_info": {
   "codemirror_mode": {
    "name": "ipython",
    "version": 3
   },
   "file_extension": ".py",
   "mimetype": "text/x-python",
   "name": "python",
   "nbconvert_exporter": "python",
   "pygments_lexer": "ipython3",
   "version": "3.11.0"
  }
 },
 "nbformat": 4,
 "nbformat_minor": 5
}
