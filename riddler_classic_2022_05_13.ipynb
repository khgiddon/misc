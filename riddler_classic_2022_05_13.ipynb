{
 "cells": [
  {
   "cell_type": "code",
   "execution_count": 136,
   "id": "c608bbb6-51f4-404a-b3e3-6154c0f022e0",
   "metadata": {},
   "outputs": [
    {
     "name": "stdout",
     "output_type": "stream",
     "text": [
      "0.45000000000000007\n"
     ]
    }
   ],
   "source": [
    "\"\"\"\n",
    "Riddler Classic 2022-05-13\n",
    "https://fivethirtyeight.com/features/its-elementary-my-dear-riddler/\n",
    "\"\"\"\n",
    "\n",
    "import numpy as np\n",
    "from itertools import product\n",
    "from collections import Counter\n",
    "\n",
    "\"\"\"\n",
    "This game can be represented as a 5-state Markov model. \n",
    "The five states are the initial roll, defeat, roll 3 dice, roll 2 dice, victory.\n",
    "Defeat and victory are absorbing states.\n",
    "\n",
    "This function returns the number of outcomes for each count of distinct dice remaining.\n",
    "If there is 1 distinct dice remaining this is a loss and if there are 4 this is a win.\n",
    "If there are 2 pairs of duplicates this is a loss (we code this as one dice remaining for our Markov model)\n",
    "\"\"\"\n",
    "def outcomes(num_dice):\n",
    "    \n",
    "    # Generate permutations of rolling N dice\n",
    "    perms = product(range(1,5),repeat=num_dice)\n",
    "    \n",
    "    # Consider all 4 dice and add back in the ones that weren't rolled\n",
    "    if num_dice == 4:\n",
    "        perms_amended = perms\n",
    "    elif num_dice == 3:\n",
    "        perms_amended = [list(i) + [1] for i in perms] # Assume 1 is the not the duplicate\n",
    "    elif num_dice == 2:\n",
    "        perms_amended = [list(i) + [1,2] for i in perms] # Assume 1,2 is not the duplicate\n",
    "    \n",
    "    # Return number of distinct values, which determines the probability of reaching each state\n",
    "    # Overwriting the values in the (2,2) case - not a pretty way to do this but it works as a hack.\n",
    "    ct_distinct_vals = [1 if max(Counter(i).values()) == 2 and min(Counter(i).values()) == 2 else len(Counter(i).keys()) for i in perms_amended]  \n",
    "    \n",
    "    # For ease of creating our Markov transition matrix, we rename our dictionary keys so they refer to the right order\n",
    "    # Because the absorbing states in our matrix have to be last\n",
    "    ct = Counter(ct_distinct_vals)\n",
    "    if 1 in ct.keys():\n",
    "        ct[5] = ct.pop(1)\n",
    "    return ct\n",
    "\n",
    "outcomes_arr = []\n",
    "for n in range(4,1,-1): # Go in reverse to make matrix construction easier\n",
    "    outcomes_arr.append(outcomes(num_dice=n))\n",
    "\n",
    "# Create a Markov transition matrix for our 5-state model\n",
    "# Now in order of initial roll, roll 3, roll 2, victory, defeat.\n",
    "states = 5\n",
    "M = np.zeros((states,states))\n",
    "for y in range(states-2):\n",
    "    for x in range(1,states):\n",
    "        M[y,x] = outcomes_arr[y][x+1]/sum(outcomes_arr[y].values())\n",
    "\n",
    "# Absorbing states\n",
    "M[3,3], M[4,4] = 1,1\n",
    "\n",
    "# Matrix algebra\n",
    "# Method described in https://github.com/khgiddon/misc/blob/main/riddler_2020_10_23_notebook.ipynb\n",
    "I = np.eye(len(M) - 2)  \n",
    "Q = M[:-2, :-2]\n",
    "R = M[:-2,-2:]\n",
    "B = np.matmul(np.linalg.inv(I - Q), R)\n",
    "\n",
    "# Probability of winning for starting state\n",
    "print(B[0,0])\n",
    "\n",
    "# 0.45\n"
   ]
  }
 ],
 "metadata": {
  "kernelspec": {
   "display_name": "Python 3 (ipykernel)",
   "language": "python",
   "name": "python3"
  },
  "language_info": {
   "codemirror_mode": {
    "name": "ipython",
    "version": 3
   },
   "file_extension": ".py",
   "mimetype": "text/x-python",
   "name": "python",
   "nbconvert_exporter": "python",
   "pygments_lexer": "ipython3",
   "version": "3.11.0"
  }
 },
 "nbformat": 4,
 "nbformat_minor": 5
}
