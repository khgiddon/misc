{
 "cells": [
  {
   "cell_type": "code",
   "execution_count": 23,
   "id": "358561db-b573-4d6c-877f-248bc4163b96",
   "metadata": {},
   "outputs": [
    {
     "name": "stdout",
     "output_type": "stream",
     "text": [
      "the probability of winning is 0.7213533784217128\n"
     ]
    }
   ],
   "source": [
    "# https://fivethirtyeight.com/features/can-you-find-the-luckiest-coin/\n",
    "\n",
    "import numpy as np\n",
    "from scipy.stats import binom\n",
    "\n",
    "# We use our trusty Markov chains that we've used to solve many previous Riddler problems!\n",
    "\n",
    "# There are two absorbing states: when there is 1 coin left (winning with a lucky coin) or 0 coins left (losing)\n",
    "# We want to construct a transition matrix of each number of coins left to each possible number of coins remaining after flipping\n",
    "# We can find the exact probabilities using the binomial distribution, and fill out a matrix of transition probability\n",
    "# We use N=1000 because a 1,000,000  ^ 2 cell transition matrix is too large\n",
    "\n",
    "max_n = 1000\n",
    "m = np.zeros((max_n+1,max_n+1))\n",
    "p = 0.5\n",
    "for n in range(1,max_n+1):\n",
    "    for k in range(0,n+1):\n",
    "        m[max_n-n,max_n-k] = binom.pmf(k, n, p, loc=0)\n",
    "        \n",
    "# Modify the probability of transition to 0 for absorbing state (1 coin left) - you can't go from 1 to 0 coins\n",
    "# The correct probabilities (0) are already given for the other absorbing state (0 coins left) in the last row of the matrix\n",
    "m[-2] = m[-2] * 0\n",
    "\n",
    "# Matrix algebra to find the probability of absorption in each state to each absorption state (1 coin left or 0 coins left)\n",
    "# I've used this code before here: https://github.com/khgiddon/misc/blob/main/riddler_2020_10_23_notebook.ipynb\n",
    "# hardcoded 2 for 2 absorbing states\n",
    "I = np.eye(len(m) - 2)  \n",
    "Q = m[:-2, :-2]\n",
    "R = m[:-2,-2:]\n",
    "absorption_probabilities = np.matmul(np.linalg.inv(I - Q), R)\n",
    "lucky_prob = absorption_probabilities[0,0]\n",
    "\n",
    "print(f'the probability of winning is {lucky_prob}')\n",
    "\n",
    "# the exact probability of finding a lucky coin is 0.7213533784217128\n",
    "\n",
    "# The probability of winning at N=100 is the same as N=1000 to 5 decimal places, so I’m thinking N=1,000,000 isn’t too far off!\n",
    "# N=100: the probability of winning is   0.7213503117876883\n",
    "# N=1000: the probability of winning is  0.7213533784217128"
   ]
  }
 ],
 "metadata": {
  "kernelspec": {
   "display_name": "Python 3 (ipykernel)",
   "language": "python",
   "name": "python3"
  },
  "language_info": {
   "codemirror_mode": {
    "name": "ipython",
    "version": 3
   },
   "file_extension": ".py",
   "mimetype": "text/x-python",
   "name": "python",
   "nbconvert_exporter": "python",
   "pygments_lexer": "ipython3",
   "version": "3.9.7"
  }
 },
 "nbformat": 4,
 "nbformat_minor": 5
}
