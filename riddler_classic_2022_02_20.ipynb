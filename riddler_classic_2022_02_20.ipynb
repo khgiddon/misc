{
 "cells": [
  {
   "cell_type": "code",
   "execution_count": null,
   "id": "358561db-b573-4d6c-877f-248bc4163b96",
   "metadata": {},
   "outputs": [],
   "source": [
    "# https://fivethirtyeight.com/features/can-you-find-the-luckiest-coin/\n",
    "\n",
    "import numpy as np\n",
    "from scipy.stats import binom\n",
    "\n",
    "# There are two absorbing states: when there is 1 coin left (winning with a lucky coin) or 0 coins left (losing)\n",
    "# We want to construct a transition matrix of each number of coins left to each possible number of coins remaining after flipping\n",
    "# We can find the exact probabilities using the binomial distribution, and fill out a matrix of transition probability\n",
    "# We use N=1000 because a 1,000,000  ^ 2 cell transition matrix is too large\n",
    "\n",
    "max_n = 1000\n",
    "m = np.zeros((max_n+1,max_n+1))\n",
    "p = 0.5\n",
    "for n in range(1,max_n+1):\n",
    "    for k in range(0,n+1):\n",
    "        m[max_n-n,max_n-k] = binom.pmf(k, n, p, loc=0)\n",
    "        \n",
    "# Modify the probability of transition to 0 for absorbing state (1 coin left) - you can't go from 1 to 0 coins\n",
    "# The correct probabilities (0) are already given for the other absorbing state (0 coins left) in the last row of the matrix\n",
    "m[-2] = m[-2] * 0\n",
    "\n",
    "# Matrix algebra to find the probability of absorption in each state to each absorption state (1 coin left or 0 coins left)\n",
    "# I've used this code before here: https://github.com/khgiddon/misc/blob/main/riddler_2020_10_23_notebook.ipynb\n",
    "# hardcoded 2 for 2 absorbing states\n",
    "I = np.eye(len(m) - 2)  \n",
    "Q = m[:-2, :-2]\n",
    "R = m[:-2,-2:]\n",
    "absorption_probabilities = np.matmul(np.linalg.inv(I - Q), R)\n",
    "lucky_prob = absorption_probabilities[0,0]\n",
    "\n",
    "print(f'the probability of winning is {lucky_prob}')\n",
    "\n",
    "# the exact probability of finding a lucky coin is 0.7213533784217128"
   ]
  },
  {
   "cell_type": "code",
   "execution_count": null,
   "id": "209b18b4-1fb0-43b8-9854-7955d8a4df2b",
   "metadata": {},
   "outputs": [],
   "source": [
    "absorption_probabilities"
   ]
  },
  {
   "cell_type": "code",
   "execution_count": 12,
   "id": "9a96f772-f37d-45d1-8388-3672b9bdb26a",
   "metadata": {},
   "outputs": [
    {
     "data": {
      "text/plain": [
       "array([[0.00976563, 0.00097656],\n",
       "       [0.01757813, 0.00195312],\n",
       "       [0.03125   , 0.00390625],\n",
       "       [0.0546875 , 0.0078125 ],\n",
       "       [0.09375   , 0.015625  ],\n",
       "       [0.15625   , 0.03125   ],\n",
       "       [0.25      , 0.0625    ],\n",
       "       [0.375     , 0.125     ],\n",
       "       [0.5       , 0.25      ]])"
      ]
     },
     "execution_count": 12,
     "metadata": {},
     "output_type": "execute_result"
    }
   ],
   "source": [
    "R"
   ]
  },
  {
   "cell_type": "code",
   "execution_count": 16,
   "id": "9db93df6-8af5-455e-85e7-606a72493b3e",
   "metadata": {},
   "outputs": [
    {
     "data": {
      "text/plain": [
       "array([[1.00097752, 0.0097943 , 0.04433361, 0.12031611, 0.22177955,\n",
       "        0.30861812, 0.37643891, 0.48155982, 0.71925007],\n",
       "       [0.        , 1.00195695, 0.01768159, 0.07156172, 0.1729331 ,\n",
       "        0.28737679, 0.38017241, 0.48766744, 0.719868  ],\n",
       "       [0.        , 0.        , 1.00392157, 0.03161958, 0.11330348,\n",
       "        0.24301175, 0.37086066, 0.49407714, 0.72245315],\n",
       "       [0.        , 0.        , 0.        , 1.00787402, 0.055993  ,\n",
       "        0.17610702, 0.33731267, 0.49422854, 0.72711879],\n",
       "       [0.        , 0.        , 0.        , 0.        , 1.01587302,\n",
       "        0.09831029, 0.2703533 , 0.47516641, 0.7311828 ],\n",
       "       [0.        , 0.        , 0.        , 0.        , 0.        ,\n",
       "        1.03225806, 0.17204301, 0.41781874, 0.7250384 ],\n",
       "       [0.        , 0.        , 0.        , 0.        , 0.        ,\n",
       "        0.        , 1.06666667, 0.3047619 , 0.68571429],\n",
       "       [0.        , 0.        , 0.        , 0.        , 0.        ,\n",
       "        0.        , 0.        , 1.14285714, 0.57142857],\n",
       "       [0.        , 0.        , 0.        , 0.        , 0.        ,\n",
       "        0.        , 0.        , 0.        , 1.33333333]])"
      ]
     },
     "execution_count": 16,
     "metadata": {},
     "output_type": "execute_result"
    }
   ],
   "source": [
    "np.linalg.inv(I - Q)"
   ]
  },
  {
   "cell_type": "code",
   "execution_count": 15,
   "id": "ccb6e83b-1d5c-44d1-bf4e-2514f7fd87b2",
   "metadata": {},
   "outputs": [
    {
     "data": {
      "text/plain": [
       "array([[0.72124566, 0.27875434],\n",
       "       [0.7210461 , 0.2789539 ],\n",
       "       [0.7209152 , 0.2790848 ],\n",
       "       [0.72110744, 0.27889256],\n",
       "       [0.72196621, 0.27803379],\n",
       "       [0.7235023 , 0.2764977 ],\n",
       "       [0.72380952, 0.27619048],\n",
       "       [0.71428571, 0.28571429],\n",
       "       [0.66666667, 0.33333333]])"
      ]
     },
     "execution_count": 15,
     "metadata": {},
     "output_type": "execute_result"
    }
   ],
   "source": [
    "np.matmul(np.linalg.inv(I - Q), R)"
   ]
  },
  {
   "cell_type": "code",
   "execution_count": 17,
   "id": "4437d0a3-941d-4c3e-9fa0-b9a96be5cc11",
   "metadata": {},
   "outputs": [
    {
     "data": {
      "text/plain": [
       "array([[0.00976563, 0.00097656],\n",
       "       [0.01757813, 0.00195312],\n",
       "       [0.03125   , 0.00390625],\n",
       "       [0.0546875 , 0.0078125 ],\n",
       "       [0.09375   , 0.015625  ],\n",
       "       [0.15625   , 0.03125   ],\n",
       "       [0.25      , 0.0625    ],\n",
       "       [0.375     , 0.125     ],\n",
       "       [0.5       , 0.25      ]])"
      ]
     },
     "execution_count": 17,
     "metadata": {},
     "output_type": "execute_result"
    }
   ],
   "source": [
    "R"
   ]
  },
  {
   "cell_type": "code",
   "execution_count": 18,
   "id": "7441363a-9220-4ace-ba7d-58ed501291a1",
   "metadata": {},
   "outputs": [
    {
     "name": "stderr",
     "output_type": "stream",
     "text": [
      "/Users/kylegiddon/opt/anaconda3/lib/python3.9/site-packages/scipy/stats/_discrete_distns.py:67: RuntimeWarning: divide by zero encountered in _binom_pdf\n",
      "  return _boost._binom_pdf(x, n, p)\n"
     ]
    },
    {
     "ename": "KeyboardInterrupt",
     "evalue": "",
     "output_type": "error",
     "traceback": [
      "\u001b[0;31m---------------------------------------------------------------------------\u001b[0m",
      "\u001b[0;31mKeyboardInterrupt\u001b[0m                         Traceback (most recent call last)",
      "\u001b[0;32m/var/folders/vj/nvqwm9351lsdv5m6pyp9_8dh0000gn/T/ipykernel_3083/1504686708.py\u001b[0m in \u001b[0;36m<module>\u001b[0;34m\u001b[0m\n\u001b[1;32m     14\u001b[0m \u001b[0;32mfor\u001b[0m \u001b[0mn\u001b[0m \u001b[0;32min\u001b[0m \u001b[0mrange\u001b[0m\u001b[0;34m(\u001b[0m\u001b[0;36m1\u001b[0m\u001b[0;34m,\u001b[0m\u001b[0mmax_n\u001b[0m\u001b[0;34m+\u001b[0m\u001b[0;36m1\u001b[0m\u001b[0;34m)\u001b[0m\u001b[0;34m:\u001b[0m\u001b[0;34m\u001b[0m\u001b[0;34m\u001b[0m\u001b[0m\n\u001b[1;32m     15\u001b[0m     \u001b[0;32mfor\u001b[0m \u001b[0mk\u001b[0m \u001b[0;32min\u001b[0m \u001b[0mrange\u001b[0m\u001b[0;34m(\u001b[0m\u001b[0;36m0\u001b[0m\u001b[0;34m,\u001b[0m\u001b[0mn\u001b[0m\u001b[0;34m+\u001b[0m\u001b[0;36m1\u001b[0m\u001b[0;34m)\u001b[0m\u001b[0;34m:\u001b[0m\u001b[0;34m\u001b[0m\u001b[0;34m\u001b[0m\u001b[0m\n\u001b[0;32m---> 16\u001b[0;31m         \u001b[0mm\u001b[0m\u001b[0;34m[\u001b[0m\u001b[0mmax_n\u001b[0m\u001b[0;34m-\u001b[0m\u001b[0mn\u001b[0m\u001b[0;34m,\u001b[0m\u001b[0mmax_n\u001b[0m\u001b[0;34m-\u001b[0m\u001b[0mk\u001b[0m\u001b[0;34m]\u001b[0m \u001b[0;34m=\u001b[0m \u001b[0mbinom\u001b[0m\u001b[0;34m.\u001b[0m\u001b[0mpmf\u001b[0m\u001b[0;34m(\u001b[0m\u001b[0mk\u001b[0m\u001b[0;34m,\u001b[0m \u001b[0mn\u001b[0m\u001b[0;34m,\u001b[0m \u001b[0mp\u001b[0m\u001b[0;34m,\u001b[0m \u001b[0mloc\u001b[0m\u001b[0;34m=\u001b[0m\u001b[0;36m0\u001b[0m\u001b[0;34m)\u001b[0m\u001b[0;34m\u001b[0m\u001b[0;34m\u001b[0m\u001b[0m\n\u001b[0m\u001b[1;32m     17\u001b[0m \u001b[0;34m\u001b[0m\u001b[0m\n",
      "\u001b[0;32m~/opt/anaconda3/lib/python3.9/site-packages/scipy/stats/_distn_infrastructure.py\u001b[0m in \u001b[0;36mpmf\u001b[0;34m(self, k, *args, **kwds)\u001b[0m\n\u001b[1;32m   3142\u001b[0m         \u001b[0mk\u001b[0m \u001b[0;34m=\u001b[0m \u001b[0masarray\u001b[0m\u001b[0;34m(\u001b[0m\u001b[0;34m(\u001b[0m\u001b[0mk\u001b[0m\u001b[0;34m-\u001b[0m\u001b[0mloc\u001b[0m\u001b[0;34m)\u001b[0m\u001b[0;34m)\u001b[0m\u001b[0;34m\u001b[0m\u001b[0;34m\u001b[0m\u001b[0m\n\u001b[1;32m   3143\u001b[0m         \u001b[0mcond0\u001b[0m \u001b[0;34m=\u001b[0m \u001b[0mself\u001b[0m\u001b[0;34m.\u001b[0m\u001b[0m_argcheck\u001b[0m\u001b[0;34m(\u001b[0m\u001b[0;34m*\u001b[0m\u001b[0margs\u001b[0m\u001b[0;34m)\u001b[0m\u001b[0;34m\u001b[0m\u001b[0;34m\u001b[0m\u001b[0m\n\u001b[0;32m-> 3144\u001b[0;31m         \u001b[0mcond1\u001b[0m \u001b[0;34m=\u001b[0m \u001b[0;34m(\u001b[0m\u001b[0mk\u001b[0m \u001b[0;34m>=\u001b[0m \u001b[0m_a\u001b[0m\u001b[0;34m)\u001b[0m \u001b[0;34m&\u001b[0m \u001b[0;34m(\u001b[0m\u001b[0mk\u001b[0m \u001b[0;34m<=\u001b[0m \u001b[0m_b\u001b[0m\u001b[0;34m)\u001b[0m \u001b[0;34m&\u001b[0m \u001b[0mself\u001b[0m\u001b[0;34m.\u001b[0m\u001b[0m_nonzero\u001b[0m\u001b[0;34m(\u001b[0m\u001b[0mk\u001b[0m\u001b[0;34m,\u001b[0m \u001b[0;34m*\u001b[0m\u001b[0margs\u001b[0m\u001b[0;34m)\u001b[0m\u001b[0;34m\u001b[0m\u001b[0;34m\u001b[0m\u001b[0m\n\u001b[0m\u001b[1;32m   3145\u001b[0m         \u001b[0mcond\u001b[0m \u001b[0;34m=\u001b[0m \u001b[0mcond0\u001b[0m \u001b[0;34m&\u001b[0m \u001b[0mcond1\u001b[0m\u001b[0;34m\u001b[0m\u001b[0;34m\u001b[0m\u001b[0m\n\u001b[1;32m   3146\u001b[0m         \u001b[0moutput\u001b[0m \u001b[0;34m=\u001b[0m \u001b[0mzeros\u001b[0m\u001b[0;34m(\u001b[0m\u001b[0mshape\u001b[0m\u001b[0;34m(\u001b[0m\u001b[0mcond\u001b[0m\u001b[0;34m)\u001b[0m\u001b[0;34m,\u001b[0m \u001b[0;34m'd'\u001b[0m\u001b[0;34m)\u001b[0m\u001b[0;34m\u001b[0m\u001b[0;34m\u001b[0m\u001b[0m\n",
      "\u001b[0;31mKeyboardInterrupt\u001b[0m: "
     ]
    }
   ],
   "source": [
    "# https://fivethirtyeight.com/features/can-you-find-the-luckiest-coin/\n",
    "\n",
    "import numpy as np\n",
    "from scipy.stats import binom\n",
    "\n",
    "# There are two absorbing states: when there are 0 coins left (losing) or 1 coin left (winning with a lucky coins)\n",
    "# We want to construct a transition matrix of each number of coins left to each possible number of coins remaining after flipping\n",
    "# We can find the exact probabilities using the binomial distribution, and fill out a matrix of transition probability\n",
    "# We use N=1000 because a 1,000,000  ^ 2 cell transition matrix is too large\n",
    "\n",
    "max_n = 1000000\n",
    "m = np.zeros((max_n+1,max_n+1))\n",
    "p = 0.5\n",
    "for n in range(1,max_n+1):\n",
    "    for k in range(0,n+1):\n",
    "        m[max_n-n,max_n-k] = binom.pmf(k, n, p, loc=0)\n",
    "        "
   ]
  },
  {
   "cell_type": "code",
   "execution_count": null,
   "id": "40d806cf-2be1-4912-8a81-7fd6e96d83db",
   "metadata": {},
   "outputs": [],
   "source": [
    "12:07"
   ]
  }
 ],
 "metadata": {
  "kernelspec": {
   "display_name": "Python 3 (ipykernel)",
   "language": "python",
   "name": "python3"
  },
  "language_info": {
   "codemirror_mode": {
    "name": "ipython",
    "version": 3
   },
   "file_extension": ".py",
   "mimetype": "text/x-python",
   "name": "python",
   "nbconvert_exporter": "python",
   "pygments_lexer": "ipython3",
   "version": "3.9.7"
  }
 },
 "nbformat": 4,
 "nbformat_minor": 5
}
