{
 "cells": [
  {
   "cell_type": "code",
   "execution_count": 107,
   "id": "358561db-b573-4d6c-877f-248bc4163b96",
   "metadata": {},
   "outputs": [
    {
     "name": "stdout",
     "output_type": "stream",
     "text": [
      "the probability of winning is 0.7213503117876883\n"
     ]
    }
   ],
   "source": [
    "import numpy as np\n",
    "from scipy.stats import binom\n",
    "\n",
    "# There are two absorbing states: when there are 0 coins left (losing) or 1 coin left (winning with a lucky coins)\n",
    "# We want to construct a transition matrix of each number of coins left to each possible number of coins remaining after flipping\n",
    "# We can find the exact probabilities using the binomial distribution, and fill out a matrix of transition probability\n",
    "\n",
    "max_n = 100 # 1000000 million ^ 2 cell transition matrix is too large\n",
    "m = np.zeros((max_n+1,max_n+1))\n",
    "p = 0.5\n",
    "for n in range(1,max_n+1):\n",
    "    for k in range(0,n+1):\n",
    "        m[max_n-n,max_n-k] = binom.pmf(k, n, p, loc=0)\n",
    "        \n",
    "# Modify the probability of transition to 0 for absorbing states (1 coin left)\n",
    "# The correct probabilities are already given for the other absorbing state (0 coins left)\n",
    "m[-2] = m[-2] * 0\n",
    "\n",
    "# Matrix algebra to find the probability of absorption in each state (1 coin left or 0 coins left)\n",
    "# I've used this code before here: https://github.com/khgiddon/misc/blob/main/riddler_2020_10_23_notebook.ipynb\n",
    "I = np.eye(len(m) - 2)  \n",
    "Q = m[:-2, :-2]\n",
    "R = m[:-2,-2:]\n",
    "absorption_probabilities = np.matmul(np.linalg.inv(I - Q), R)\n",
    "lucky_prob = absorption_probabilities[0,0]\n",
    "\n",
    "print(f'the probability of winning is {lucky_prob}')\n",
    "\n",
    "# the exact probability of finding a lucky coin is 0.7213533784217128\n"
   ]
  },
  {
   "cell_type": "code",
   "execution_count": null,
   "id": "209b18b4-1fb0-43b8-9854-7955d8a4df2b",
   "metadata": {},
   "outputs": [],
   "source": []
  }
 ],
 "metadata": {
  "kernelspec": {
   "display_name": "Python 3 (ipykernel)",
   "language": "python",
   "name": "python3"
  },
  "language_info": {
   "codemirror_mode": {
    "name": "ipython",
    "version": 3
   },
   "file_extension": ".py",
   "mimetype": "text/x-python",
   "name": "python",
   "nbconvert_exporter": "python",
   "pygments_lexer": "ipython3",
   "version": "3.9.7"
  }
 },
 "nbformat": 4,
 "nbformat_minor": 5
}
