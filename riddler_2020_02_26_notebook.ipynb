{
 "cells": [
  {
   "cell_type": "code",
   "execution_count": 68,
   "metadata": {},
   "outputs": [
    {
     "name": "stdout",
     "output_type": "stream",
     "text": [
      "768 permutations are valid\n"
     ]
    }
   ],
   "source": [
    "\"\"\"\n",
    "\n",
    "https://fivethirtyeight.com/features/how-many-ways-can-you-build-a-staircase/\n",
    "\n",
    "You have 10 blocks with which to build four steps against a wall. The first step is one block high, the second is two blocks high, the third is three blocks high and the fourth is four blocks high.\n",
    "\n",
    "However, the ground ever-so-slightly slopes down toward the wall, and both the floor and the blocks are a little bit slippery. As a result, whenever you place a block at ground level, it slides toward the wall until it hits the wall or another block. And when you place a block atop another block, it will similarly slide toward the wall until it hits the wall or another block.\n",
    "\n",
    "Suppose the four blocks in the bottom row are labeled A, the three blocks in the second row are labeled B, the two blocks in the next row are labeled C and the topmost block is labeled D. One way to build the steps would be to place the blocks in the following order, one row at a time: A-A-A-A-B-B-B-C-C-D. You could alternatively place the blocks one column at a time: A-B-C-D-A-B-C-A-B-A. But you could not place them in the order A-B-B-A-A-A-B-C-C-D because that would mean at one point you have more blocks in the second row, B, than in the bottom row, A — a physical impossibility!\n",
    "\n",
    "How many distinct ways are there to build these four steps using the 10 blocks?\n",
    "\n",
    "\"\"\"\n",
    "\n",
    "import itertools\n",
    "\n",
    "def count_letters_in_str(perm):\n",
    "    freqs = {f:0 for f in '1234'}\n",
    "    for i in perm: \n",
    "        freqs[i] += 1\n",
    "    return freqs\n",
    "\n",
    "def check_validity(perm):\n",
    "    for i in range(len(perm)-1):\n",
    "        partial_perm = perm[:i+1]\n",
    "        \n",
    "        freqs = count_letters_in_str(partial_perm)\n",
    "        for a in freqs:\n",
    "            for b in freqs:\n",
    "                if int(a) > int(b):\n",
    "                    if freqs[a] > freqs[b]:\n",
    "                        return False        \n",
    "    return True\n",
    "    \n",
    "print(str(sum(1 for p in set(itertools.permutations('1111222334')) if check_validity(p))) + ' permutations are valid')"
   ]
  }
 ],
 "metadata": {
  "kernelspec": {
   "display_name": "Python 3",
   "language": "python",
   "name": "python3"
  },
  "language_info": {
   "codemirror_mode": {
    "name": "ipython",
    "version": 3
   },
   "file_extension": ".py",
   "mimetype": "text/x-python",
   "name": "python",
   "nbconvert_exporter": "python",
   "pygments_lexer": "ipython3",
   "version": "3.8.5"
  }
 },
 "nbformat": 4,
 "nbformat_minor": 4
}
