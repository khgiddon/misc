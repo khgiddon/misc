{
 "cells": [
  {
   "cell_type": "code",
   "execution_count": 147,
   "metadata": {},
   "outputs": [],
   "source": [
    "import matplotlib.pyplot as plt\n",
    "from matplotlib import colors \n",
    "import numpy as np"
   ]
  },
  {
   "cell_type": "code",
   "execution_count": 111,
   "metadata": {},
   "outputs": [
    {
     "name": "stdout",
     "output_type": "stream",
     "text": [
      "41.333333333333336\n"
     ]
    }
   ],
   "source": [
    "import itertools\n",
    "\n",
    "def score_row(row):\n",
    "    if int(row[2]) - int(row[0]) == 2:\n",
    "        pts = 60\n",
    "    elif int(row[2]) - int(row[1]) <= 2 and int(row[1]) - int(row[0]) <= 2:\n",
    "        pts = 50\n",
    "    elif int(row[2]) - int(row[1]) <= 2 or int(row[1]) - int(row[0]) <= 2:\n",
    "        pts = 40\n",
    "    else:\n",
    "        pts = 30\n",
    "    return pts\n",
    "\n",
    "rows = list(itertools.combinations('0123456789',3))\n",
    "scores = [score_row(row) for row in rows]\n",
    "print(sum(scores)/len(arrs))\n",
    "\n",
    "# 41.333333333333336"
   ]
  },
  {
   "cell_type": "code",
   "execution_count": 164,
   "metadata": {},
   "outputs": [],
   "source": [
    "grid = np.zeros([len(arrs),10])\n",
    "for row in range(len(arrs)):\n",
    "    for j in arrs[row]:\n",
    "        grid[row][int(j)] = scores[row]\n",
    "        "
   ]
  },
  {
   "cell_type": "code",
   "execution_count": 179,
   "metadata": {},
   "outputs": [
    {
     "data": {
      "text/plain": [
       "<matplotlib.image.AxesImage at 0x120ac7eb0>"
      ]
     },
     "execution_count": 179,
     "metadata": {},
     "output_type": "execute_result"
    },
    {
     "data": {
      "image/png": "[encoded data removed]",
      "text/plain": [
       "<Figure size 1440x720 with 1 Axes>"
      ]
     },
     "metadata": {
      "needs_background": "light"
     },
     "output_type": "display_data"
    }
   ],
   "source": [
    "fig = plt.figure(figsize=(20, 10))\n",
    "ax = fig.add_subplot(1,1,1)\n",
    "\n",
    "plt.imshow(grid.T,cmap=colormap)\n",
    "\n",
    "# don't want to figure out the colors here"
   ]
  },
  {
   "cell_type": "code",
   "execution_count": null,
   "metadata": {},
   "outputs": [],
   "source": []
  }
 ],
 "metadata": {
  "kernelspec": {
   "display_name": "Python 3",
   "language": "python",
   "name": "python3"
  },
  "language_info": {
   "codemirror_mode": {
    "name": "ipython",
    "version": 3
   },
   "file_extension": ".py",
   "mimetype": "text/x-python",
   "name": "python",
   "nbconvert_exporter": "python",
   "pygments_lexer": "ipython3",
   "version": "3.8.5"
  }
 },
 "nbformat": 4,
 "nbformat_minor": 4
}
