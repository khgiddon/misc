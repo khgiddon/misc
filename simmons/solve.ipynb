{
 "cells": [
  {
   "cell_type": "code",
   "execution_count": 14,
   "metadata": {},
   "outputs": [
    {
     "name": "stdout",
     "output_type": "stream",
     "text": [
      "Probability of at least one death: 0.9999999661216976\n",
      "Probability of at least one death: 0.8209401918178757\n"
     ]
    }
   ],
   "source": [
    "import csv\n",
    "from math import prod\n",
    "\n",
    "# Read ssa_table.csv and get death probability for males by age\n",
    "age_to_death_prob = {}\n",
    "with open('ssa_table.csv', 'r') as csvfile:\n",
    "    csvreader = csv.reader(csvfile)\n",
    "    next(csvreader)  # Skip header row\n",
    "    for row in csvreader:\n",
    "        age = int(row[0])\n",
    "        male_death_prob = float(row[1])\n",
    "        age_to_death_prob[age] = male_death_prob\n",
    "\n",
    "# Number of people\n",
    "n_people = 2000000\n",
    "\n",
    "# Number of age groups\n",
    "n_age_groups = 75 - 18 + 1  # 18 to 65 inclusive\n",
    "\n",
    "# Number of people in each age group, since the distribution is uniform\n",
    "people_per_age_group = n_people // n_age_groups\n",
    "\n",
    "# Calculate the probability of at least one death\n",
    "\n",
    "for BR in [0.00096,0.00096/10]: # Calculated assumption, assumption divided by factor of 10\n",
    "    prob_no_death_list = []\n",
    "    for age in range(18, 75):  # 18 to 75 inclusive\n",
    "        prob_no_death_age_group = (1 - age_to_death_prob[age] * BR) ** people_per_age_group\n",
    "        prob_no_death_list.append(prob_no_death_age_group)\n",
    "\n",
    "    prob_at_least_one_death = 1 - prod(prob_no_death_list)\n",
    "\n",
    "    print(\"Probability of at least one death:\", prob_at_least_one_death)"
   ]
  }
 ],
 "metadata": {
  "kernelspec": {
   "display_name": "Python 3",
   "language": "python",
   "name": "python3"
  },
  "language_info": {
   "codemirror_mode": {
    "name": "ipython",
    "version": 3
   },
   "file_extension": ".py",
   "mimetype": "text/x-python",
   "name": "python",
   "nbconvert_exporter": "python",
   "pygments_lexer": "ipython3",
   "version": "3.10.13"
  }
 },
 "nbformat": 4,
 "nbformat_minor": 2
}
