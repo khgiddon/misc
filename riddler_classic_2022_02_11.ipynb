{
 "cells": [
  {
   "cell_type": "code",
   "execution_count": 38,
   "id": "f7f91bfe-5bfd-4455-afd4-f74a71bd0323",
   "metadata": {},
   "outputs": [
    {
     "name": "stdout",
     "output_type": "stream",
     "text": [
      "(3, 5, 11, 19, 29, 17, 31, 13)\n"
     ]
    }
   ],
   "source": [
    "# https://fivethirtyeight.com/features/can-you-prime-the-cube/\n",
    "\n",
    "import math\n",
    "import itertools\n",
    "\n",
    "def check_prime(n):\n",
    "    for i in range(2,math.floor(math.sqrt(n))+1):\n",
    "        if int(n/i) == n/i:\n",
    "            return False\n",
    "    return True\n",
    "\n",
    "def generate_primes(max_n):\n",
    "    return [i for i in range(2,max_n+1) if check_prime(i)]\n",
    "\n",
    "faces = {\n",
    "          0:{0,2,3,6}\n",
    "         ,1:{1,2,3,4}\n",
    "         ,2:{0,3,4,7}\n",
    "         ,3:{0,5,6,7}\n",
    "         ,4:{1,2,5,6}\n",
    "         ,5:{1,4,5,7}\n",
    "}\n",
    "\n",
    "def check_valid(perm):\n",
    "    target = -1\n",
    "    for f in faces:\n",
    "        s = 0\n",
    "        for v in faces[f]:\n",
    "            s += perm[v]\n",
    "        if f == 0:\n",
    "            target = s\n",
    "        else:\n",
    "            if s != target:\n",
    "                return False\n",
    "    return True\n",
    "\n",
    "max_n = 51\n",
    "primes = generate_primes(max_n)\n",
    "perms = itertools.permutations(primes, r=8)\n",
    "\n",
    "for perm in perms:\n",
    "    if check_valid(perm):\n",
    "        break\n",
    "print(perm)\n",
    "\n",
    "# (3, 5, 11, 19, 29, 17, 31, 13)\n",
    "\n",
    "# Top (clockwise from top right): 13, 3, 19, 29\n",
    "# Bottom (clockwise from top right): 17, 31, 5, 11\n"
   ]
  }
 ],
 "metadata": {
  "kernelspec": {
   "display_name": "Python 3 (ipykernel)",
   "language": "python",
   "name": "python3"
  },
  "language_info": {
   "codemirror_mode": {
    "name": "ipython",
    "version": 3
   },
   "file_extension": ".py",
   "mimetype": "text/x-python",
   "name": "python",
   "nbconvert_exporter": "python",
   "pygments_lexer": "ipython3",
   "version": "3.9.7"
  }
 },
 "nbformat": 4,
 "nbformat_minor": 5
}
