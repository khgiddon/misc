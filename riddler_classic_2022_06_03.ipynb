{
 "cells": [
  {
   "cell_type": "code",
   "execution_count": null,
   "id": "989e2abe-6d8c-458e-ab1c-6ad212a15cde",
   "metadata": {},
   "outputs": [],
   "source": [
    "import random\n",
    "import itertools\n",
    "\n",
    "def generate_vectors(n: int):\n",
    "    \"\"\" Returns a list of vectors specified by their y coordinate and their angle theta\"\"\"\n",
    "    for i in range(n):\n",
    "        yield (random.random(),random.uniform(0,360))\n",
    "\n",
    "def check_vectors(l: list):\n",
    "    \n",
    "    # Pairwise combinations\n",
    "    c = itertools.combinations(l, 2)\n",
    "    \n",
    "    for i in c:\n",
    "        y1, t1, y2, t2 = i[0][0], i[0][1], i[1][0], i[1][1]\n",
    "        if t1 < 180 and t2 < 180: # Can only intersect if same side of line segment\n",
    "            if (y1 > y2 and t2 < t1) or (y2 > y1 and t1 < t2):\n",
    "                return False\n",
    "        elif (t1 > 180 and t2 > 180):\n",
    "            if (y1 > y2 and t2 > t1) or (y2 > y1 and t1 > t2):\n",
    "                return False\n",
    "    return True\n",
    "        \n",
    "def simulate(n,iters=1000000):\n",
    "    successes = 0\n",
    "    for _ in range(iters):\n",
    "        l = generate_vectors(n)\n",
    "        successes += check_vectors(l)\n",
    "    print(n, successes/iters)\n",
    "\n",
    "for n in range(1,11):\n",
    "    simulate(n) \n",
    "    \n",
    "\"\"\"\n",
    "Probability of no paths intersecting, by N\n",
    "\n",
    "1 1.0\n",
    "2 0.750921\n",
    "3 0.416711\n",
    "4 0.181933\n",
    "5 0.065409\n",
    "6 0.020071\n",
    "7 0.005188\n",
    "8 0.001224\n",
    "9 0.000273\n",
    "10 3.8e-05\n",
    "\"\"\"\n",
    "    \n"
   ]
  }
 ],
 "metadata": {
  "kernelspec": {
   "display_name": "Python 3 (ipykernel)",
   "language": "python",
   "name": "python3"
  },
  "language_info": {
   "codemirror_mode": {
    "name": "ipython",
    "version": 3
   },
   "file_extension": ".py",
   "mimetype": "text/x-python",
   "name": "python",
   "nbconvert_exporter": "python",
   "pygments_lexer": "ipython3",
   "version": "3.9.7"
  }
 },
 "nbformat": 4,
 "nbformat_minor": 5
}
