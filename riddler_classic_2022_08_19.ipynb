{
 "cells": [
  {
   "cell_type": "code",
   "execution_count": 226,
   "id": "cd5e13ae-6dc2-4ada-bbcf-a61af3ce1c94",
   "metadata": {},
   "outputs": [
    {
     "name": "stdout",
     "output_type": "stream",
     "text": [
      "0.7901197017\n"
     ]
    }
   ],
   "source": [
    "# Riddler Classic 2022-08-19\n",
    "# https://fivethirtyeight.com/features/can-you-find-your-pills/\n",
    "# It follows the Markov method I used in https://github.com/khgiddon/misc/blob/main/riddler_2020_10_02_notebook.ipynb\n",
    "\n",
    "from scipy.stats import hypergeom\n",
    "import pandas as pd\n",
    "\n",
    "transitions = set()\n",
    "queue = set(((15,0),))\n",
    "\n",
    "def compute_transitions(full_pills,half_pills):\n",
    "    \n",
    "    # Transitions tuple represented by: (current_full_pills,current_half_pills,new_full_pills,new_half_pills,p)\n",
    "    \n",
    "    # Probabilities of picking up 0, 1, 2 half pills\n",
    "    [a,b,c] = [full_pills+half_pills, half_pills, 2]\n",
    "    p1, p2, p3 = (hypergeom(a,b,c).pmf(n) for n in range(3))\n",
    "    \n",
    "    # If picked up 2 half pills, what happens next\n",
    "    if half_pills >= 2:\n",
    "        [a,b,c] = [full_pills+half_pills-2, half_pills-2, 1]\n",
    "        p4 = hypergeom(a,b,c).pmf(1) # Picked up one half pill\n",
    "    else:\n",
    "        p4 = 0\n",
    "    \n",
    "    # Check if new states are valid, and then if so append to transitions list\n",
    "    if half_pills - 3 >= 0 and half_pills-3 + full_pills > 0:\n",
    "        transitions.add((full_pills,half_pills,full_pills,half_pills-3,p3*p4))\n",
    "        queue.add((full_pills,half_pills-3)) # New state to test\n",
    "\n",
    "    if full_pills-2 >= 0 and half_pills+1 + full_pills-2 > 0:              \n",
    "        transitions.add((full_pills,half_pills,full_pills-2,half_pills+1,p1)) # Picked up 2 full pills\n",
    "        queue.add((full_pills-2,half_pills+1))\n",
    "                     \n",
    "    if full_pills-1 >= 0 and half_pills-1 >= 0  and half_pills-1 + full_pills-1 > 0:\n",
    "        transitions.add((full_pills,half_pills,full_pills-1,half_pills-1,p2 + (p3*(1-p4)))) # Picked up 1 half pill and 1 full pill ; this also happens if you pick up 2 half pills then a full pill\n",
    "        queue.add((full_pills-1,half_pills-1))\n",
    "    \n",
    "while len(queue) > 0:\n",
    "    full_pills, half_pills = queue.pop()\n",
    "    if full_pills + half_pills > 0:\n",
    "        compute_transitions(full_pills, half_pills)\n",
    "\n",
    "# Clean and convert to transition matrix\n",
    "df = pd.DataFrame(transitions,columns = ['full_pills','half_pills', 'new_full_pills','new_half_pills','p'])\n",
    "df['id'] = df['full_pills'].astype(str).str.zfill(2) + '_' + df['half_pills'].astype(str).str.zfill(2)\n",
    "df['id_new'] = df['new_full_pills'].astype(str).str.zfill(2) + '_' + df['new_half_pills'].astype(str).str.zfill(2)\n",
    "\n",
    "# Label transition to absorbing states differently so they sort last\n",
    "df['id'] = df['id'].str.replace('00_03','-00_03')\n",
    "df['id_new'] = df['id_new'].str.replace('00_03','-00_03')\n",
    "df['id'] = df['id'].str.replace('01_01','-01_01')\n",
    "df['id_new'] = df['id_new'].str.replace('01_01','-01_01')\n",
    "\n",
    "# Create absorbing states\n",
    "df1 = pd.DataFrame(columns=df.columns)\n",
    "df1.loc[0] = [0,0,0,0,1,'-00_03','-00_03']\n",
    "df2 = pd.DataFrame(columns=df.columns)\n",
    "df2.loc[0] = [0,0,0,0,1,'-01_01','-01_01']\n",
    "df = pd.concat([df,df1,df2],ignore_index=True)\n",
    "\n",
    "# Rectangularize \n",
    "df_pivot = df.pivot_table(index='id', columns='id_new', values='p',fill_value=0,dropna=False)      \n",
    "df_pivot['15_00'] = 0\n",
    "\n",
    "# Order absorbing states last\n",
    "df_pivot = df_pivot.sort_index(ascending=False)\n",
    "df_pivot = df_pivot.sort_index(ascending=False,axis=1)\n",
    "\n",
    "# Markov chain math\n",
    "matrix = df_pivot.to_numpy()\n",
    "I = np.eye(len(matrix) - 2)  \n",
    "Q = matrix[:-2, :-2]\n",
    "R = matrix[:-2,-2:]\n",
    "\n",
    "# And the answer is ...\n",
    "print(round(np.matmul(np.linalg.inv(I - Q), R)[0][0],10))"
   ]
  }
 ],
 "metadata": {
  "kernelspec": {
   "display_name": "Python 3 (ipykernel)",
   "language": "python",
   "name": "python3"
  },
  "language_info": {
   "codemirror_mode": {
    "name": "ipython",
    "version": 3
   },
   "file_extension": ".py",
   "mimetype": "text/x-python",
   "name": "python",
   "nbconvert_exporter": "python",
   "pygments_lexer": "ipython3",
   "version": "3.9.7"
  }
 },
 "nbformat": 4,
 "nbformat_minor": 5
}
